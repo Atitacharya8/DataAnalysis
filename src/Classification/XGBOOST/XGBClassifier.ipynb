{
 "cells": [
  {
   "cell_type": "code",
   "execution_count": 56,
   "id": "4d7ef46f",
   "metadata": {},
   "outputs": [],
   "source": [
    "import pandas as pd\n",
    "import numpy as np\n",
    "import matplotlib.pyplot as plt\n",
    "import xgboost as xgb\n",
    "from xgboost import XGBClassifier\n",
    "from sklearn.metrics import accuracy_score\n",
    "from sklearn.model_selection import train_test_split"
   ]
  },
  {
   "cell_type": "code",
   "execution_count": 4,
   "id": "23f60a28",
   "metadata": {},
   "outputs": [],
   "source": [
    "data = pd.read_csv('dataset_1.csv')"
   ]
  },
  {
   "cell_type": "code",
   "execution_count": 32,
   "id": "77f3e18a",
   "metadata": {},
   "outputs": [],
   "source": [
    "train, test = train_test_split(data, test_size=0.1, random_state=42)\n",
    "train, val = train_test_split(train, test_size=0.1, random_state=42)"
   ]
  },
  {
   "cell_type": "code",
   "execution_count": 33,
   "id": "8c7b3e27",
   "metadata": {},
   "outputs": [],
   "source": [
    "X_train = train.drop('Target', axis=1)\n",
    "y_train = train['Target']"
   ]
  },
  {
   "cell_type": "code",
   "execution_count": 34,
   "id": "00c76f14",
   "metadata": {},
   "outputs": [],
   "source": [
    "X_val = val.drop('Target', axis=1)\n",
    "y_val = val['Target']"
   ]
  },
  {
   "cell_type": "code",
   "execution_count": 35,
   "id": "9c77bb86",
   "metadata": {},
   "outputs": [],
   "source": [
    "X_test = test.drop('Target', axis=1)\n",
    "y_test = test['Target']"
   ]
  },
  {
   "cell_type": "code",
   "execution_count": 36,
   "id": "912747e7",
   "metadata": {},
   "outputs": [],
   "source": [
    "params = {\n",
    "    'objective': 'binary:logistic',\n",
    "    'eval_metric': 'logloss',\n",
    "    'subsample': 0.8,\n",
    "    'colsample_bytree': 0.8,\n",
    "    'max_depth': 10,\n",
    "    'learning_rate': 0.1,\n",
    "    'n_estimators': 100,\n",
    "     'gamma' : 0.1,\n",
    "    'reg_alpha' : 0.1,\n",
    "    'reg_lamdba':0.1\n",
    "}"
   ]
  },
  {
   "cell_type": "code",
   "execution_count": 37,
   "id": "e751aade",
   "metadata": {},
   "outputs": [],
   "source": [
    "dtrain = xgb.DMatrix(X_train, label=y_train)\n",
    "dval = xgb.DMatrix(X_val, label=y_val)"
   ]
  },
  {
   "cell_type": "code",
   "execution_count": 43,
   "id": "71f7dd15",
   "metadata": {},
   "outputs": [
    {
     "name": "stdout",
     "output_type": "stream",
     "text": [
      "[02:07:47] WARNING: C:/buildkite-agent/builds/buildkite-windows-cpu-autoscaling-group-i-0fc7796c793e6356f-1/xgboost/xgboost-ci-windows/src/learner.cc:767: \n",
      "Parameters: { \"n_estimators\", \"reg_lamdba\" } are not used.\n",
      "\n",
      "[0]\tvalidation-logloss:0.61053\n",
      "[1]\tvalidation-logloss:0.54228\n",
      "[2]\tvalidation-logloss:0.48371\n",
      "[3]\tvalidation-logloss:0.43636\n",
      "[4]\tvalidation-logloss:0.40194\n",
      "[5]\tvalidation-logloss:0.36575\n",
      "[6]\tvalidation-logloss:0.33482\n",
      "[7]\tvalidation-logloss:0.30867\n",
      "[8]\tvalidation-logloss:0.28473\n",
      "[9]\tvalidation-logloss:0.26478\n"
     ]
    }
   ],
   "source": [
    "model = xgb.train(params, dtrain, evals=[(dval, 'validation')], early_stopping_rounds=10)"
   ]
  },
  {
   "cell_type": "code",
   "execution_count": 45,
   "id": "af4e7d64",
   "metadata": {},
   "outputs": [],
   "source": [
    "dtest = xgb.DMatrix(X_test)"
   ]
  },
  {
   "cell_type": "code",
   "execution_count": 46,
   "id": "ca90d317",
   "metadata": {},
   "outputs": [],
   "source": [
    "y_pred = model.predict(dtest)\n",
    "y_pred = np.round(y_pred)"
   ]
  },
  {
   "cell_type": "code",
   "execution_count": 47,
   "id": "fd064c6b",
   "metadata": {},
   "outputs": [],
   "source": [
    "accuracy = accuracy_score(y_test, y_pred)"
   ]
  },
  {
   "cell_type": "code",
   "execution_count": 48,
   "id": "033c5c9b",
   "metadata": {},
   "outputs": [
    {
     "name": "stdout",
     "output_type": "stream",
     "text": [
      "Accuracy: 100.00%\n"
     ]
    }
   ],
   "source": [
    "print('Accuracy: {:.2f}%'.format(accuracy * 100))"
   ]
  },
  {
   "cell_type": "code",
   "execution_count": 51,
   "id": "ec5ddf1a",
   "metadata": {},
   "outputs": [],
   "source": [
    "# initialize the XGBClassifier model with pruning parameters\n",
    "clf = XGBClassifier(\n",
    "    max_depth=3,          # Maximum tree depth\n",
    "    learning_rate=0.1,    # Learning rate\n",
    "    n_estimators=100,     # Number of trees in the forest\n",
    "    gamma=0.1,            # Minimum loss reduction to make a further partition\n",
    "    reg_alpha=0.1,        # L1 regularization on leaf weights\n",
    "    reg_lambda=0.1,       # L2 regularization on leaf weights\n",
    "    subsample=0.8,        # Subsample ratio of the training set\n",
    "    colsample_bytree=0.8  # Subsample ratio of columns when constructing each tree\n",
    ")"
   ]
  },
  {
   "cell_type": "code",
   "execution_count": 52,
   "id": "f30b5940",
   "metadata": {
    "scrolled": true
   },
   "outputs": [
    {
     "data": {
      "text/plain": [
       "XGBClassifier(base_score=None, booster=None, callbacks=None,\n",
       "              colsample_bylevel=None, colsample_bynode=None,\n",
       "              colsample_bytree=0.8, early_stopping_rounds=None,\n",
       "              enable_categorical=False, eval_metric=None, feature_types=None,\n",
       "              gamma=0.1, gpu_id=None, grow_policy=None, importance_type=None,\n",
       "              interaction_constraints=None, learning_rate=0.1, max_bin=None,\n",
       "              max_cat_threshold=None, max_cat_to_onehot=None,\n",
       "              max_delta_step=None, max_depth=3, max_leaves=None,\n",
       "              min_child_weight=None, missing=nan, monotone_constraints=None,\n",
       "              n_estimators=100, n_jobs=None, num_parallel_tree=None,\n",
       "              predictor=None, random_state=None, ...)"
      ]
     },
     "execution_count": 52,
     "metadata": {},
     "output_type": "execute_result"
    }
   ],
   "source": [
    "# train the XGBClassifier model on the training set\n",
    "clf.fit(X_train, y_train)"
   ]
  },
  {
   "cell_type": "code",
   "execution_count": 53,
   "id": "f0fef454",
   "metadata": {},
   "outputs": [
    {
     "name": "stdout",
     "output_type": "stream",
     "text": [
      "Accuracy: 99.55%\n"
     ]
    }
   ],
   "source": [
    "# evaluate the accuracy of the model on the testing set\n",
    "accuracy = clf.score(X_test, y_test)\n",
    "print(\"Accuracy: %.2f%%\" % (accuracy * 100.0))"
   ]
  },
  {
   "cell_type": "code",
   "execution_count": 54,
   "id": "f68c8805",
   "metadata": {},
   "outputs": [],
   "source": [
    "# extract the decision tree from the trained model\n",
    "tree = clf.get_booster().get_dump()[0]\n"
   ]
  },
  {
   "cell_type": "code",
   "execution_count": 55,
   "id": "c20493ec",
   "metadata": {},
   "outputs": [
    {
     "name": "stdout",
     "output_type": "stream",
     "text": [
      "0:[LastStatementMinimumPaymentDueAmount<59.5] yes=1,no=2,missing=1\n",
      "\t1:[LastStatementMinimumPaymentDueAmount<31.4599991] yes=3,no=4,missing=3\n",
      "\t\t3:[LastStatementMinimumPaymentDueAmount<6.05000019] yes=7,no=8,missing=7\n",
      "\t\t\t7:leaf=-0.199711815\n",
      "\t\t\t8:leaf=-0.178434268\n",
      "\t\t4:[LastStatementBalanceAmount<70.3050003] yes=9,no=10,missing=9\n",
      "\t\t\t9:leaf=0.181250006\n",
      "\t\t\t10:leaf=-0.17327936\n",
      "\t2:[LastStatementPaymentTotalAmount<107.5] yes=5,no=6,missing=5\n",
      "\t\t5:[LastStatementPurchaseAmount<458] yes=11,no=12,missing=11\n",
      "\t\t\t11:leaf=0.183807835\n",
      "\t\t\t12:leaf=-0.0904761925\n",
      "\t\t6:[LastStatementMinimumPaymentDueAmount<286] yes=13,no=14,missing=13\n",
      "\t\t\t13:leaf=-0.193611786\n",
      "\t\t\t14:leaf=0.0534296036\n",
      "\n"
     ]
    }
   ],
   "source": [
    "print(tree)"
   ]
  },
  {
   "cell_type": "code",
   "execution_count": 60,
   "id": "2a578d38",
   "metadata": {},
   "outputs": [],
   "source": [
    "from sklearn.tree import export_graphviz\n",
    "import pydotplus\n",
    "from IPython.display import Image"
   ]
  },
  {
   "cell_type": "code",
   "execution_count": 68,
   "id": "b60a5fa7",
   "metadata": {},
   "outputs": [],
   "source": [
    "# clf = xgb.XGBClassifier(max_depth=3, learning_rate=0.1, n_estimators=100, gamma=0.1,\n",
    "#                         reg_alpha=0.1, reg_lambda=0.1, subsample=0.8, colsample_bytree=0.8)\n",
    "# clf.fit(X_train, y_train)\n",
    "\n",
    "# # plot the first tree\n",
    "# plt.figure(figsize=(40, 20))\n",
    "# xgb.plot_tree(clf, num_trees=0, rankdir='LR')\n",
    "# plt.show()\n"
   ]
  },
  {
   "cell_type": "code",
   "execution_count": null,
   "id": "18fca9d9",
   "metadata": {},
   "outputs": [],
   "source": []
  }
 ],
 "metadata": {
  "kernelspec": {
   "display_name": "Python 3 (ipykernel)",
   "language": "python",
   "name": "python3"
  },
  "language_info": {
   "codemirror_mode": {
    "name": "ipython",
    "version": 3
   },
   "file_extension": ".py",
   "mimetype": "text/x-python",
   "name": "python",
   "nbconvert_exporter": "python",
   "pygments_lexer": "ipython3",
   "version": "3.9.13"
  }
 },
 "nbformat": 4,
 "nbformat_minor": 5
}
