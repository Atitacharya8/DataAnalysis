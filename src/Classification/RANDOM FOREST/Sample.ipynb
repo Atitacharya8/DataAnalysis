{
 "cells": [
  {
   "cell_type": "code",
   "execution_count": 56,
   "id": "7987cfbb",
   "metadata": {},
   "outputs": [],
   "source": [
    "import pandas as pd\n",
    "import numpy as np\n",
    "import shap\n",
    "from sklearn.ensemble import RandomForestClassifier\n",
    "from sklearn.model_selection import train_test_split\n",
    "from sklearn.metrics import classification_report, accuracy_score, precision_score, f1_score"
   ]
  },
  {
   "cell_type": "code",
   "execution_count": 150,
   "id": "7fabb14b",
   "metadata": {},
   "outputs": [],
   "source": [
    "# model = xgb.XGBClassifier(objective='binary:logistic', n_estimators=1000, max_depth=6, learning_rate=0.01)"
   ]
  },
  {
   "cell_type": "code",
   "execution_count": 184,
   "id": "b28d7427",
   "metadata": {},
   "outputs": [],
   "source": [
    "df = pd.read_csv('dataset_1.csv')\n",
    "# numSamples, numFeatures = df.shape   \n",
    "D = df.drop(['Unnamed: 0'], axis=1)\n",
    "    \n",
    "X = D.loc[:, ~D.columns.isin(['name', 'Target'])]\n",
    "y = D.loc[:, \"Target\"]"
   ]
  },
  {
   "cell_type": "code",
   "execution_count": 185,
   "id": "496c57c3",
   "metadata": {},
   "outputs": [],
   "source": [
    "X_train, X_test, y_train, y_test = train_test_split(X, y, test_size=0.1, random_state=26, shuffle=True, train_size=0.8)\n",
    "X_train, X_val, y_train, y_val = train_test_split(X_train, y_train, test_size=0.1, random_state=26, shuffle=True, train_size=0.8)"
   ]
  },
  {
   "cell_type": "code",
   "execution_count": 134,
   "id": "7c82e9c0",
   "metadata": {
    "scrolled": true
   },
   "outputs": [],
   "source": [
    "# X_train"
   ]
  },
  {
   "cell_type": "code",
   "execution_count": 186,
   "id": "89a650f7",
   "metadata": {},
   "outputs": [],
   "source": [
    "model = RandomForestClassifier( max_depth=6, n_estimators=100, random_state=26)"
   ]
  },
  {
   "cell_type": "code",
   "execution_count": 187,
   "id": "1f21977d",
   "metadata": {},
   "outputs": [
    {
     "data": {
      "text/plain": [
       "RandomForestClassifier(max_depth=6, random_state=26)"
      ]
     },
     "execution_count": 187,
     "metadata": {},
     "output_type": "execute_result"
    }
   ],
   "source": [
    "model.fit(X_train, y_train)"
   ]
  },
  {
   "cell_type": "code",
   "execution_count": 188,
   "id": "c23e3a99",
   "metadata": {},
   "outputs": [],
   "source": [
    "val_pred = rfc.predict(X_val)"
   ]
  },
  {
   "cell_type": "code",
   "execution_count": 189,
   "id": "99177c0c",
   "metadata": {},
   "outputs": [],
   "source": [
    "val_accuracy = accuracy_score(y_val, val_pred)"
   ]
  },
  {
   "cell_type": "code",
   "execution_count": 190,
   "id": "05863e61",
   "metadata": {},
   "outputs": [
    {
     "data": {
      "text/plain": [
       "0.9666666666666667"
      ]
     },
     "execution_count": 190,
     "metadata": {},
     "output_type": "execute_result"
    }
   ],
   "source": [
    "val_accuracy"
   ]
  },
  {
   "cell_type": "code",
   "execution_count": 191,
   "id": "edf5dd32",
   "metadata": {},
   "outputs": [],
   "source": [
    "test_preds = rfc.predict(X_test)\n",
    "test_accuracy = accuracy_score(y_test, test_preds)"
   ]
  },
  {
   "cell_type": "code",
   "execution_count": 192,
   "id": "3f00bb61",
   "metadata": {},
   "outputs": [
    {
     "data": {
      "text/plain": [
       "0.9732142857142857"
      ]
     },
     "execution_count": 192,
     "metadata": {},
     "output_type": "execute_result"
    }
   ],
   "source": [
    "test_accuracy"
   ]
  },
  {
   "cell_type": "code",
   "execution_count": 195,
   "id": "69cfadb5",
   "metadata": {},
   "outputs": [],
   "source": [
    "datasets = [ 'dataset_1.csv', 'dataset_10.csv', 'dataset_100.csv', 'dataset_11.csv']"
   ]
  },
  {
   "cell_type": "code",
   "execution_count": 208,
   "id": "fbb3bdda",
   "metadata": {},
   "outputs": [],
   "source": [
    "for dataset_file in datasets:\n",
    "    df1 = pd.read_csv(dataset_file)\n",
    "    numSamples, numFeatures = df.shape   \n",
    "    D = df.drop(['Unnamed: 0'], axis=1)\n",
    "    \n",
    "    X = D.loc[:, ~D.columns.isin(['name', 'Target'])]\n",
    "    y = D.loc[:, \"Target\"]\n",
    "    \n",
    "    rfc = RandomForestClassifier( max_depth=6, n_estimators=100, random_state=26)\n",
    "    rfc.fit(X_train, y_train)\n",
    "    \n",
    "    y_pred = rfc.predict(X_test)\n",
    "    \n",
    "#     accuracy = accuracy_score(y_test, y_pred)\n",
    "#     accuracy = precision_score(y_test, y_pred)\n",
    "#     accuracy = f1_score(y_test, y_pred)\n",
    "    \n",
    "    \n",
    "#     accuracy = model.score(X_test, y_test)\n",
    "#     print(f\"Accuracy on {dataset_file}: {accuracy}\")"
   ]
  },
  {
   "cell_type": "code",
   "execution_count": 209,
   "id": "56ecc71c",
   "metadata": {},
   "outputs": [],
   "source": [
    "report = classification_report(y_test, y_pred)\n"
   ]
  },
  {
   "cell_type": "code",
   "execution_count": 210,
   "id": "a395c7bd",
   "metadata": {},
   "outputs": [
    {
     "name": "stdout",
     "output_type": "stream",
     "text": [
      "              precision    recall  f1-score   support\n",
      "\n",
      "           0       0.99      0.95      0.97       104\n",
      "           1       0.96      0.99      0.98       120\n",
      "\n",
      "    accuracy                           0.97       224\n",
      "   macro avg       0.97      0.97      0.97       224\n",
      "weighted avg       0.97      0.97      0.97       224\n",
      "\n"
     ]
    }
   ],
   "source": [
    "print(report)"
   ]
  },
  {
   "cell_type": "code",
   "execution_count": 211,
   "id": "308f2fbb",
   "metadata": {},
   "outputs": [],
   "source": [
    "explainer = shap.TreeExplainer(model)\n",
    "shap_values = explainer.shap_values(X_test)"
   ]
  },
  {
   "cell_type": "code",
   "execution_count": 212,
   "id": "c8032373",
   "metadata": {},
   "outputs": [
    {
     "data": {
      "image/png": "[encoded data removed]",
      "text/plain": [
       "<Figure size 800x470 with 1 Axes>"
      ]
     },
     "metadata": {},
     "output_type": "display_data"
    }
   ],
   "source": [
    "shap.summary_plot(shap_values, X_test)\n"
   ]
  },
  {
   "cell_type": "code",
   "execution_count": 205,
   "id": "b7f8ae23",
   "metadata": {},
   "outputs": [],
   "source": [
    "\n",
    "# D = df.drop(['Unnamed: 0', 'ChargeOffAmount', 'LastStatementPurchaseReturnAmount'], axis=1)\n"
   ]
  },
  {
   "cell_type": "code",
   "execution_count": 206,
   "id": "33db5046",
   "metadata": {},
   "outputs": [],
   "source": [
    "# X = D.loc[:, ~D.columns.isin(['name', 'Target'])]\n",
    "# y = D.loc[:, \"Target\"]"
   ]
  },
  {
   "cell_type": "code",
   "execution_count": 195,
   "id": "fdb2b5d1",
   "metadata": {},
   "outputs": [],
   "source": [
    "# X"
   ]
  },
  {
   "cell_type": "code",
   "execution_count": 50,
   "id": "4c0937e0",
   "metadata": {},
   "outputs": [],
   "source": [
    "# y"
   ]
  },
  {
   "cell_type": "code",
   "execution_count": 148,
   "id": "425ad8b5",
   "metadata": {},
   "outputs": [],
   "source": [
    "# X_train, X_test, y_train, y_test = train_test_split(X, y, test_size=0.3, random_state=42)"
   ]
  },
  {
   "cell_type": "code",
   "execution_count": 141,
   "id": "1a5d0923",
   "metadata": {},
   "outputs": [],
   "source": [
    "# dtrain = xgb.DMatrix(X_train, label = y_train)\n",
    "# dtest = xgb.DMatrix(X_test, label=y_test)"
   ]
  },
  {
   "cell_type": "code",
   "execution_count": 160,
   "id": "2032b8c9",
   "metadata": {},
   "outputs": [],
   "source": [
    "# model = xgb.XGBClassifier(\n",
    "#     max_depth=20,\n",
    "#     n_estimators=100,\n",
    "#     subsample=0.9,\n",
    "#     learning_rate=0.1,\n",
    "#     min_child_weight=1,\n",
    "#     colsample_bytree=0.9\n",
    "# )"
   ]
  },
  {
   "cell_type": "code",
   "execution_count": 162,
   "id": "597efbe7",
   "metadata": {},
   "outputs": [],
   "source": [
    "# model"
   ]
  },
  {
   "cell_type": "code",
   "execution_count": 153,
   "id": "96177b75",
   "metadata": {},
   "outputs": [
    {
     "data": {
      "text/plain": [
       "XGBClassifier(base_score=None, booster=None, callbacks=None,\n",
       "              colsample_bylevel=None, colsample_bynode=None,\n",
       "              colsample_bytree=0.9, early_stopping_rounds=None,\n",
       "              enable_categorical=False, eval_metric=None, feature_types=None,\n",
       "              gamma=None, gpu_id=None, grow_policy=None, importance_type=None,\n",
       "              interaction_constraints=None, learning_rate=0.1, max_bin=None,\n",
       "              max_cat_threshold=None, max_cat_to_onehot=None,\n",
       "              max_delta_step=None, max_depth=20, max_leaves=None,\n",
       "              min_child_weight=1, missing=nan, monotone_constraints=None,\n",
       "              n_estimators=100, n_jobs=None, num_parallel_tree=None,\n",
       "              predictor=None, random_state=None, ...)"
      ]
     },
     "execution_count": 153,
     "metadata": {},
     "output_type": "execute_result"
    }
   ],
   "source": [
    "# model.fit(X_train, y_train)\n"
   ]
  },
  {
   "cell_type": "code",
   "execution_count": 154,
   "id": "d4d2e519",
   "metadata": {},
   "outputs": [],
   "source": [
    "# y_pred = model.predict(X_test)"
   ]
  },
  {
   "cell_type": "code",
   "execution_count": 71,
   "id": "a84e96ac",
   "metadata": {},
   "outputs": [],
   "source": [
    "# y_pred"
   ]
  },
  {
   "cell_type": "code",
   "execution_count": 155,
   "id": "86cfe6b6",
   "metadata": {},
   "outputs": [
    {
     "data": {
      "text/plain": [
       "0.9985119047619048"
      ]
     },
     "execution_count": 155,
     "metadata": {},
     "output_type": "execute_result"
    }
   ],
   "source": [
    "# accuracy_score(y_test, y_pred)"
   ]
  },
  {
   "cell_type": "code",
   "execution_count": 156,
   "id": "79e556c8",
   "metadata": {},
   "outputs": [
    {
     "data": {
      "text/plain": [
       "0.9985164555118683"
      ]
     },
     "execution_count": 156,
     "metadata": {},
     "output_type": "execute_result"
    }
   ],
   "source": [
    "# precision_score(y_test, y_pred, average='weighted')"
   ]
  },
  {
   "cell_type": "code",
   "execution_count": 157,
   "id": "bf5c74fb",
   "metadata": {},
   "outputs": [
    {
     "data": {
      "text/plain": [
       "0.9985119674222954"
      ]
     },
     "execution_count": 157,
     "metadata": {},
     "output_type": "execute_result"
    }
   ],
   "source": [
    "# f1_score(y_test, y_pred, average='weighted')"
   ]
  },
  {
   "cell_type": "code",
   "execution_count": null,
   "id": "ad83d5a7",
   "metadata": {},
   "outputs": [],
   "source": []
  }
 ],
 "metadata": {
  "kernelspec": {
   "display_name": "Python 3 (ipykernel)",
   "language": "python",
   "name": "python3"
  },
  "language_info": {
   "codemirror_mode": {
    "name": "ipython",
    "version": 3
   },
   "file_extension": ".py",
   "mimetype": "text/x-python",
   "name": "python",
   "nbconvert_exporter": "python",
   "pygments_lexer": "ipython3",
   "version": "3.9.13"
  }
 },
 "nbformat": 4,
 "nbformat_minor": 5
}
